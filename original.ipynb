{"cells":[
 {
  "cell_type": "code",
  "execution_count": null,
  "metadata": {
   "collapsed": true
  },
  "outputs": [],
  "source": "%matplotlib inline"
 },
 {
  "cell_type": "code",
  "execution_count": null,
  "metadata": {
   "collapsed": false
  },
  "outputs": [],
  "source": "ls ../input"
 },
 {
  "cell_type": "code",
  "execution_count": null,
  "metadata": {
   "collapsed": false
  },
  "outputs": [],
  "source": "cat ../input/StateNames.csv | head "
 },
 {
  "cell_type": "code",
  "execution_count": null,
  "metadata": {
   "collapsed": false
  },
  "outputs": [],
  "source": "import pandas as pd\n\npres =  {'Name' : ['Barack','George','Bill','George','Ronald','Jimmy','Gerald','Richard','Lyndon','John','Dwight','Harry','Franklin','Herbert','Calvin','Warren','Woodrow'],\n         'StartYear' : [2009,2001,1993,1989,1981,1977,1974,1969,1963,1961,1953,1945,1933,1929,1923,1921,1913],\n         'EndYear' : [2015,2009,2001,1993,1989,1981,1977,1974,1969,1963,1961,1953,1945,1933,1929,1923,1921]\n}\n\ndf = pd.DataFrame(pres)"
 },
 {
  "cell_type": "code",
  "execution_count": null,
  "metadata": {
   "collapsed": false
  },
  "outputs": [],
  "source": "import pandas as pd\n\npres =  {'Name' : ['Mitt','Albert','Robert','Michael','Walter','Jimmy','Gerald','George','Hubert','Barry','Richard','Adlai','Thomas','Wendell','Alfred','Herbert','John','James','Charles'],\n         'StartYear' : [2010,1998,1994,1986,1982,1978,1974,1970,1966,1962,1958,1950,1942,1938,1926,1930,1922,1918,1914],\n         'EndYear' : [2014,2002,1998,1990,1986,1982,1978,1974,1970,1966,1962,1958,1950,1942,1938,1934,1926,1922,1918]\n}\n\ndf_losing = pd.DataFrame(pres)"
 },
 {
  "cell_type": "code",
  "execution_count": null,
  "metadata": {
   "collapsed": false
  },
  "outputs": [],
  "source": "# Find out and Plot names with highest popularity when the current President with same name is in the Office :\n\nimport operator\nimport math\nimport pandas as pd\nimport csv\n%matplotlib inline\n\ndef popularity(selectname):\n    #return the year in which name is most popular\n    sumname={}\n    f = open(\"../input/StateNames.csv\")\n    allStates = csv.reader(f)\n    for line in allStates:\n        state=line[4]\n        gender=line[3]\n        year=(line[2])\n        name=line[1]\n        count=(line[5])\n        if name==selectname:\n            sumname[year]=sumname.get(year,0)+int(count)\n    for key,values in sorted(sumname.items(), key=operator.itemgetter(1),reverse=True): #sort by value:\n        return key\n    f.close()\n\n        \nNames = list(df.Name)\nprint(Names)\nstartYear=list(df.StartYear)\nendYear=list(df.EndYear)\n#Names = ['Woodrow','Calvin','Herbert','Franklin','Dwight','Kennedy','Lyndon','Jimmy']\n#Names = ['Elvis','Hillary','John','Kennedy']\nnamesdict ={}\nspecificName={}\nselectedNames =[]\n\nfor i in range(0,len(Names)):\n    popyear = ''\n    popyear = popularity(Names[i])\n    if popyear is None:\n        continue\n    print(\"The Name \" + str(Names[i]) +\" is popular during the year \" + str(popyear))\n    influenceStart = int(startYear[i])-1\n    influenceEnd = int(endYear[i])\n                           \n    if (int(popyear) >= influenceStart and int(popyear) <= influenceEnd): #If popularity is when the president is in office\n        selectedNames.append(Names[i])\n\nprint(\"Names with highest popularity when the current President with same name is in the Office :\") \nprint(selectedNames)\n\nf = open(\"../input/StateNames.csv\")\nallStates = csv.reader(f)\n\nfor line in allStates:\n        state=line[4]\n        gender=line[3]\n        year=(line[2])\n        name=line[1]\n        count=(line[5])\n        if name in selectedNames:\n            specificName = namesdict.get(name,{})\n            specificName[year] = specificName.get(year,0)+int(count)\n            namesdict[name] = specificName\nf.close()\n"
 },
 {
  "cell_type": "code",
  "execution_count": null,
  "metadata": {
   "collapsed": false
  },
  "outputs": [],
  "source": "import matplotlib.pyplot as plt\nfrom pylab import rcParams\nimport operator\n\n#Charts    \nrcParams['figure.figsize'] = 17,24\n#colors = list(\"rgbcmykr\")\nf, axarr = plt.subplots(len(namesdict.items()), sharex=True)\ni=0\n\nfor name, year_dict in namesdict.items():\n    x=[]\n    y=[]\n    for key,values in sorted(year_dict.items(), key=operator.itemgetter(0)): #sort by year:\n        x.append(key) #year\n        y.append(values) #counts\n    axarr[i].plot(x, y,label=name,linewidth=2,color='b')\n    axarr[i].axvspan(int(df[df.Name == name].StartYear), int(df[df.Name == name].EndYear), alpha=0.5, color='red')\n    axarr[i].set_title(name)\n    i=i+1\nprint(\"done\")"
 },
 {
  "cell_type": "code",
  "execution_count": null,
  "metadata": {
   "collapsed": false
  },
  "outputs": [],
  "source": "# Find out and Plot names with highest popularity after President with same name lost the election :\n\nimport operator\nimport math\nimport pandas as pd\nimport csv\n%matplotlib inline\n\ndef popularity(selectname):\n    #return the year in which name is most popular\n    sumname={}\n    f = open(\"../input/StateNames.csv\")\n    allStates = csv.reader(f)\n    for line in allStates:\n        state=line[4]\n        gender=line[3]\n        year=(line[2])\n        name=line[1]\n        count=(line[5])\n        if name==selectname:\n            sumname[year]=sumname.get(year,0)+int(count)\n    for key,values in sorted(sumname.items(), key=operator.itemgetter(1),reverse=True): #sort by value:\n        return key\n    f.close()\n\n        \nNames = list(df_losing.Name)\nprint(Names)\nstartYear=list(df_losing.StartYear)\nendYear=list(df_losing.EndYear)\nnamesdict ={}\nspecificName={}\nselectedNames =[]\n\nfor i in range(0,len(Names)):\n    popyear = ''\n    popyear = popularity(Names[i])\n    if popyear is None:\n        continue\n    #print(\"The Name \" + str(Names[i]) +\" is popular during the year \" + str(popyear))\n    influenceStart = int(startYear[i])-1\n    influenceEnd = int(endYear[i])\n                           \n    if (int(popyear) >= influenceStart and int(popyear) <= influenceEnd): #If popularity is when the president is in office\n        selectedNames.append(Names[i])\n\nprint(\"Names with highest popularity after President with same name lost the election :\") \nprint(selectedNames)\n\nf = open(\"../input/StateNames.csv\")\nallStates = csv.reader(f)\n\nfor line in allStates:\n        state=line[4]\n        gender=line[3]\n        year=(line[2])\n        name=line[1]\n        count=(line[5])\n        if name in selectedNames:\n            specificName = namesdict.get(name,{})\n            specificName[year] = specificName.get(year,0)+int(count)\n            namesdict[name] = specificName\nf.close()"
 },
 {
  "cell_type": "code",
  "execution_count": null,
  "metadata": {
   "collapsed": false
  },
  "outputs": [],
  "source": "import matplotlib.pyplot as plt\nfrom pylab import rcParams\nimport operator\n\n#Charts    \nrcParams['figure.figsize'] = 17,24\n#colors = list(\"rgbcmykr\")\nf, axarr = plt.subplots(len(namesdict.items()), sharex=True)\ni=0\n\nfor name, year_dict in namesdict.items():\n    x=[]\n    y=[]\n    for key,values in sorted(year_dict.items(), key=operator.itemgetter(0)): #sort by year:\n        x.append(key) #year\n        y.append(values) #counts\n    axarr[i].plot(x, y,label=name,linewidth=2,color='b')\n    axarr[i].axvspan(int(df_losing[df_losing.Name == name].StartYear), int(df_losing[df_losing.Name == name].EndYear), alpha=0.5, color='red')\n    axarr[i].set_title(name)\n    i=i+1\nprint(\"done\")"
 },
 {
  "cell_type": "code",
  "execution_count": null,
  "metadata": {
   "collapsed": false
  },
  "outputs": [],
  "source": "# Plot Hillary\n\nimport matplotlib.pyplot as plt\nfrom pylab import rcParams\nimport collections\nfrom collections import defaultdict\nimport operator\nimport csv\n\n%matplotlib inline\nf = open(\"../input/StateNames.csv\")\nallStates = csv.reader(f)\nNames = ['Hillary']\nspecificName={}\n\nfor line in allStates:\n    state=line[4]\n    gender=line[3]\n    year=(line[2])\n    name=line[1]\n    count=(line[5])  \n    if (name in Names):\n        specificName[year] = specificName.get(year,0)+int(count)\n    \n\n#Charts\nspecificName = collections.OrderedDict(sorted(specificName.items()))\n\nrcParams['figure.figsize'] = 18,8\nplt.bar(range(len(specificName)), specificName.values())\nplt.xticks(range(len(specificName)), specificName.keys())\nplt.xticks(rotation=90)\nplt.title('Popularity of Name Hillary')\nplt.show()"
 },
 {
  "cell_type": "code",
  "execution_count": null,
  "metadata": {
   "collapsed": false
  },
  "outputs": [],
  "source": "# Plot Elvis\n\nimport matplotlib.pyplot as plt\nfrom pylab import rcParams\nimport collections\nfrom collections import defaultdict\nimport operator\nimport csv\n\n%matplotlib inline\nf = open(\"../input/StateNames.csv\")\nallStates = csv.reader(f)\nNames = ['Elvis']\nspecificName={}\n\nfor line in allStates:\n    state=line[4]\n    gender=line[3]\n    year=(line[2])\n    name=line[1]\n    count=(line[5])  \n    if (name in Names):\n        specificName[year] = specificName.get(year,0)+int(count)\n    \n\n#Charts\nspecificName = collections.OrderedDict(sorted(specificName.items()))\n\nrcParams['figure.figsize'] = 18,8\nplt.bar(range(len(specificName)), specificName.values())\nplt.xticks(range(len(specificName)), specificName.keys())\nplt.xticks(rotation=90)\nplt.title('Popularity of Name Elvis')\nplt.show()"
 }
],"metadata":{"kernelspec":{"display_name":"Python 3","language":"python","name":"python3"}}, "nbformat": 4, "nbformat_minor": 0}